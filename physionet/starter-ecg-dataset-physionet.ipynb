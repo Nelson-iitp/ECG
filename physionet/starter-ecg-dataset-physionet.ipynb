{
 "cells": [
  {
   "cell_type": "markdown",
   "metadata": {
    "papermill": {
     "duration": 0.01769,
     "end_time": "2021-10-16T23:35:48.323982",
     "exception": false,
     "start_time": "2021-10-16T23:35:48.306292",
     "status": "completed"
    },
    "tags": []
   },
   "source": [
    "**Access and use ECG Lead 2 Dataset PhysioNet**"
   ]
  },
  {
   "cell_type": "markdown",
   "metadata": {
    "papermill": {
     "duration": 0.014925,
     "end_time": "2021-10-16T23:35:48.355057",
     "exception": false,
     "start_time": "2021-10-16T23:35:48.340132",
     "status": "completed"
    },
    "tags": []
   },
   "source": [
    "# Global Section"
   ]
  },
  {
   "cell_type": "code",
   "execution_count": 1,
   "metadata": {
    "_cell_guid": "b1076dfc-b9ad-4769-8c92-a6c4dae69d19",
    "_uuid": "8f2839f25d086af736a60e9eeb907d3b93b6e0e5",
    "execution": {
     "iopub.execute_input": "2021-10-16T23:35:48.401595Z",
     "iopub.status.busy": "2021-10-16T23:35:48.400762Z",
     "iopub.status.idle": "2021-10-16T23:35:48.427947Z",
     "shell.execute_reply": "2021-10-16T23:35:48.427161Z"
    },
    "papermill": {
     "duration": 0.056967,
     "end_time": "2021-10-16T23:35:48.428111",
     "exception": false,
     "start_time": "2021-10-16T23:35:48.371144",
     "status": "completed"
    },
    "tags": []
   },
   "outputs": [
    {
     "name": "stdout",
     "output_type": "stream",
     "text": [
      "Basic sampling rate(Hz): 128\n",
      "GLOBAL DIR :: db_npy\n",
      "STD ANN FILE :: db_npy\\annotations.txt\n",
      "\n",
      "Standard Labels::\n",
      "N\tb\tNormal beat\n",
      "L\tb\tLeft bundle branch block beat\n",
      "R\tb\tRight bundle branch block beat\n",
      "B\tb\tBundle branch block beat (unspecified)\n",
      "A\tb\tAtrial premature beat\n",
      "a\tb\tAberrated atrial premature beat\n",
      "J\tb\tNodal (junctional) premature beat\n",
      "S\tb\tSupraventricular premature or ectopic beat (atrial or nodal)\n",
      "V\tb\tPremature ventricular contraction\n",
      "r\tb\tR-on-T premature ventricular contraction\n",
      "F\tb\tFusion of ventricular and normal beat\n",
      "e\tb\tAtrial escape beat\n",
      "j\tb\tNodal (junctional) escape beat\n",
      "n\tb\tSupraventricular escape beat (atrial or nodal)\n",
      "E\tb\tVentricular escape beat\n",
      "/\tb\tPaced beat\n",
      "f\tb\tFusion of paced and normal beat\n",
      "Q\tb\tUnclassifiable \n",
      "?\tb\tBeat not classified during learning\n",
      "[\tn\tStart of ventricular flutter/fibrillation\n",
      "!\tn\tVentricular flutter wave\n",
      "]\tn\tEnd of ventricular flutter/fibrillation\n",
      "x\tn\tNon-conducted P-wave (blocked APC)\n",
      "(\tn\tWaveform onset\n",
      ")\tn\tWaveform end\n",
      "p\tn\tPeak of P-wave\n",
      "t\tn\tPeak of T-wave\n",
      "u\tn\tPeak of U-wave\n",
      "`\tn\tPQ junction\n",
      "'\tn\tJ-point\n",
      "^\tn\t(Non-captured) pacemaker artifact\n",
      "|\tn\tIsolated QRS-like artifact [1]\n",
      "~\tn\tChange in signal quality [1]\n",
      "+\tn\tRhythm change [2]\n",
      "s\tn\tST segment change [2]\n",
      "T\tn\tT-wave change [2]\n",
      "*\tn\tSystole\n",
      "D\tn\tDiastole\n",
      "=\tn\tMeasurement annotation [2]\n",
      "\"\tn\tComment annotation [2]\n",
      "@\tn\tLink to external data [3]\n",
      "\n",
      "beat-annotation: 19\n",
      "non-beat-annotation: 22\n"
     ]
    }
   ],
   "source": [
    "import datetime\n",
    "import os\n",
    "import random\n",
    "import numpy as np\n",
    "import matplotlib.pyplot as plt\n",
    "import matplotlib.ticker as ticker\n",
    "\n",
    "#<<----------------------------------- GLOBAL Variables\n",
    "\n",
    "# Resampled every signal to this rate for consistency\n",
    "BASIC_SRATE = 128 #Hz\n",
    "print('Basic sampling rate(Hz):',BASIC_SRATE)\n",
    "\n",
    "# global base directory\n",
    "global_dir = 'db_npy'\n",
    "print('GLOBAL DIR ::',global_dir)\n",
    "\n",
    "std_annotations = os.path.join(global_dir,'annotations.txt')\n",
    "print('STD ANN FILE ::',std_annotations)\n",
    "\n",
    "# ------ load standard labels ------------------------------------------\n",
    "std_ant = np.loadtxt(std_annotations, dtype='str',delimiter=\"\\t\")\n",
    "\n",
    "# Seperate out stand beat and non-beat annotations using 'annotations.txt'\n",
    "beat_ants = []\n",
    "non_beat_ants = []\n",
    "print('\\nStandard Labels::')\n",
    "for a in std_ant:\n",
    "    # a[0] =  # standard label (char)\n",
    "    # a[1] =  # type of label\n",
    "    # a[2]  = # description (str)\n",
    "    print(a[0]+'\\t'+a[1]+'\\t'+a[2])\n",
    "    if a[1]=='b': #<<--- is a beat-annotation\n",
    "        beat_ants.append(a[0])\n",
    "    else:\n",
    "        non_beat_ants.append(a[0])\n",
    "\n",
    "print('')\n",
    "print('beat-annotation:',len(beat_ants))\n",
    "print('non-beat-annotation:',len(non_beat_ants))\n",
    "#-----------------------------------------------------------------------------\n",
    "\n",
    "\n",
    "# data file identifiers \n",
    "g_BEAT = '_BEAT.npy'         #<<--- beat annotations\n",
    "g_NBEAT = '_NBEAT.npy'       #<<--- non-beat annotations\n",
    "g_SIG2 = '_SIG_II.npy'     #<<--- Signal Data (Removed manual gain)\n",
    "\n"
   ]
  },
  {
   "cell_type": "markdown",
   "metadata": {
    "papermill": {
     "duration": 0.017055,
     "end_time": "2021-10-16T23:35:48.461957",
     "exception": false,
     "start_time": "2021-10-16T23:35:48.444902",
     "status": "completed"
    },
    "tags": []
   },
   "source": [
    "# Select a database and list its records"
   ]
  },
  {
   "cell_type": "code",
   "execution_count": 2,
   "metadata": {
    "_cell_guid": "79c7e3d0-c299-4dcb-8224-4455121ee9b0",
    "_uuid": "d629ff2d2480ee46fbb7e2d37f6b5fab8052498a",
    "execution": {
     "iopub.execute_input": "2021-10-16T23:35:48.506030Z",
     "iopub.status.busy": "2021-10-16T23:35:48.504368Z",
     "iopub.status.idle": "2021-10-16T23:35:48.523090Z",
     "shell.execute_reply": "2021-10-16T23:35:48.522190Z"
    },
    "papermill": {
     "duration": 0.043837,
     "end_time": "2021-10-16T23:35:48.523228",
     "exception": false,
     "start_time": "2021-10-16T23:35:48.479391",
     "status": "completed"
    },
    "tags": []
   },
   "outputs": [
    {
     "name": "stdout",
     "output_type": "stream",
     "text": [
      "Database@ db_npy\\mitdb_npy\n",
      "Total Records = 48\n",
      "['100' '101' '102' '103' '104' '105' '106' '107' '108' '109' '111' '112'\n",
      " '113' '114' '115' '116' '117' '118' '119' '121' '122' '123' '124' '200'\n",
      " '201' '202' '203' '205' '207' '208' '209' '210' '212' '213' '214' '215'\n",
      " '217' '219' '220' '221' '222' '223' '228' '230' '231' '232' '233' '234']\n"
     ]
    }
   ],
   "source": [
    "# Select a database name from ['mitdb', 'svdb', 'incartdb']\n",
    "iDatabase = 'mitdb'\n",
    "idbPath = os.path.join(global_dir,iDatabase + '_npy' )\n",
    "print('Database@',idbPath)\n",
    "\n",
    "# Read 'RECORDS' file for list of available records\n",
    "record_list = np.loadtxt(os.path.join(idbPath,'RECORDS'), dtype='str',delimiter=\"\\n\")\n",
    "print('Total Records =',len(record_list))\n",
    "print(record_list)"
   ]
  },
  {
   "cell_type": "markdown",
   "metadata": {
    "papermill": {
     "duration": 0.01626,
     "end_time": "2021-10-16T23:35:48.556716",
     "exception": false,
     "start_time": "2021-10-16T23:35:48.540456",
     "status": "completed"
    },
    "tags": []
   },
   "source": [
    "# Select a record within a database and read its data"
   ]
  },
  {
   "cell_type": "code",
   "execution_count": 3,
   "metadata": {
    "execution": {
     "iopub.execute_input": "2021-10-16T23:35:48.604844Z",
     "iopub.status.busy": "2021-10-16T23:35:48.599931Z",
     "iopub.status.idle": "2021-10-16T23:35:48.656405Z",
     "shell.execute_reply": "2021-10-16T23:35:48.656947Z"
    },
    "papermill": {
     "duration": 0.084096,
     "end_time": "2021-10-16T23:35:48.657119",
     "exception": false,
     "start_time": "2021-10-16T23:35:48.573023",
     "status": "completed"
    },
    "tags": []
   },
   "outputs": [
    {
     "name": "stdout",
     "output_type": "stream",
     "text": [
      "beats: (2955, 2)\n",
      "R-Peak\t [ 16  74 172 248 303]\n",
      "Labels\t ['F' 'V' 'N' 'F' 'V']\n",
      "\n",
      "non-beats: (85, 2)\n",
      "nR-Peak\t [   3 2305 2878 4633 7058]\n",
      "nLabels\t ['+' '~' '~' '~' '~']\n",
      "\n",
      "Signal Length = (231111,)\n",
      "Signal Duration = 1805.5546875 sec\n"
     ]
    }
   ],
   "source": [
    "# Select a Record name\n",
    "iRecord = '208' # (from database mitdb as selected in above cell)\n",
    "\n",
    "#<<---------------------------------------------\n",
    "# Load Beat-Annotation (Labels)\n",
    "#<<---------------------------------------------\n",
    "beat_file = os.path.join(idbPath,iRecord + g_BEAT)\n",
    "iBeat = np.load(beat_file)\n",
    "print('beats:',iBeat.shape)\n",
    "# seperate out R-peaks and Labels (note both are in string format)\n",
    "iRpeaks = iBeat[:,0].astype('int') #<<-- convert sampling locations to integer\n",
    "iLabels = iBeat[:,1]               #<<-- labels remain as string\n",
    "# print some values....\n",
    "print('R-Peak\\t', iRpeaks[0:5])\n",
    "print('Labels\\t', iLabels[0:5])\n",
    "print('')\n",
    "\n",
    "#<<---------------------------------------------\n",
    "# Load Non-Beat-Annotation\n",
    "#<<---------------------------------------------\n",
    "nbeat_file = os.path.join(idbPath,iRecord + g_NBEAT)\n",
    "iNbeat = np.load(nbeat_file)\n",
    "print('non-beats:',iNbeat.shape)\n",
    "# seperate out R-peaks and non-beats (note both are in string format)\n",
    "inRpeaks = iNbeat[:,0].astype('int') #<<-- convert sampling locations to integer\n",
    "inLabels = iNbeat[:,1] #<<-- labels remain as string\n",
    "# print some values....\n",
    "print('nR-Peak\\t', inRpeaks[0:5])\n",
    "print('nLabels\\t', inLabels[0:5])\n",
    "print('')\n",
    "\n",
    "#<<---------------------------------------------\n",
    "# Load Signal Data\n",
    "#<<---------------------------------------------\n",
    "signal_file = os.path.join(idbPath,iRecord + g_SIG2)\n",
    "iSignal = np.load(signal_file)\n",
    "print('Signal Length =',iSignal.shape)\n",
    "print('Signal Duration =',len(iSignal)/BASIC_SRATE, 'sec')"
   ]
  },
  {
   "cell_type": "markdown",
   "metadata": {
    "papermill": {
     "duration": 0.016233,
     "end_time": "2021-10-16T23:35:48.692708",
     "exception": false,
     "start_time": "2021-10-16T23:35:48.676475",
     "status": "completed"
    },
    "tags": []
   },
   "source": [
    "# Plot the signal data (fixed duration)"
   ]
  },
  {
   "cell_type": "code",
   "execution_count": 4,
   "metadata": {
    "execution": {
     "iopub.execute_input": "2021-10-16T23:35:48.734092Z",
     "iopub.status.busy": "2021-10-16T23:35:48.733380Z",
     "iopub.status.idle": "2021-10-16T23:35:48.964131Z",
     "shell.execute_reply": "2021-10-16T23:35:48.963388Z"
    },
    "papermill": {
     "duration": 0.254724,
     "end_time": "2021-10-16T23:35:48.964261",
     "exception": false,
     "start_time": "2021-10-16T23:35:48.709537",
     "status": "completed"
    },
    "tags": []
   },
   "outputs": [
    {
     "data": {
      "image/png": "[encoded data removed]",
      "text/plain": [
       "<Figure size 432x288 with 1 Axes>"
      ]
     },
     "metadata": {
      "needs_background": "light"
     },
     "output_type": "display_data"
    }
   ],
   "source": [
    "# select duration to be plotted\n",
    "plot_from, plot_to = 10, 15 # in sec, plot 5 sec signal\n",
    "\n",
    "# first convert to samples\n",
    "pf, pt = int(plot_from*BASIC_SRATE), int(plot_to*BASIC_SRATE)\n",
    "signal_slice = iSignal[pf:pt]\n",
    "\n",
    "plt.ylim(-2.5,3.5)\n",
    "_ = plt.plot(signal_slice)"
   ]
  },
  {
   "cell_type": "markdown",
   "metadata": {
    "papermill": {
     "duration": 0.019882,
     "end_time": "2021-10-16T23:35:49.004092",
     "exception": false,
     "start_time": "2021-10-16T23:35:48.984210",
     "status": "completed"
    },
    "tags": []
   },
   "source": [
    "# Plot the signal data (for any beat/R-peak)"
   ]
  },
  {
   "cell_type": "code",
   "execution_count": 5,
   "metadata": {
    "execution": {
     "iopub.execute_input": "2021-10-16T23:35:49.081694Z",
     "iopub.status.busy": "2021-10-16T23:35:49.069305Z",
     "iopub.status.idle": "2021-10-16T23:35:49.232252Z",
     "shell.execute_reply": "2021-10-16T23:35:49.231709Z"
    },
    "papermill": {
     "duration": 0.207612,
     "end_time": "2021-10-16T23:35:49.232381",
     "exception": false,
     "start_time": "2021-10-16T23:35:49.024769",
     "status": "completed"
    },
    "tags": []
   },
   "outputs": [
    {
     "name": "stdout",
     "output_type": "stream",
     "text": [
      "Selected beat# 552 of 2955\n",
      "R-Peak Location: 41001\n",
      "Beat-Label: N\n"
     ]
    },
    {
     "data": {
      "image/png": "[encoded data removed]",
      "text/plain": [
       "<Figure size 432x288 with 1 Axes>"
      ]
     },
     "metadata": {
      "needs_background": "light"
     },
     "output_type": "display_data"
    }
   ],
   "source": [
    "# find out total number of beats\n",
    "nos_beats = len(iRpeaks)\n",
    "\n",
    "# randomly select a beat to plot\n",
    "random_beat_index = random.randint(0,nos_beats-1)\n",
    "print('Selected beat#',random_beat_index,'of',nos_beats)\n",
    "\n",
    "# find location of R-peak of that beat ( a single point )\n",
    "Rpeak = iRpeaks[random_beat_index]\n",
    "print('R-Peak Location:',Rpeak)\n",
    "\n",
    "# select fixed duration of signal to be plotted on either side of the R-peak\n",
    "left_duration = 0.5 # sec\n",
    "right_duration = 1 # sec\n",
    "\n",
    "# convert to duration in sec to samples\n",
    "left_samples = int(left_duration*BASIC_SRATE)\n",
    "right_samples = int(right_duration*BASIC_SRATE)\n",
    "\n",
    "# calculate time interval\n",
    "pf, pt = Rpeak-left_samples, Rpeak+right_samples # in samples\n",
    "signal_slice = iSignal[pf:pt]\n",
    "\n",
    "# plot\n",
    "plt.figure('beat')\n",
    "plt.ylim(-2.5,3.5)\n",
    "plt.plot(signal_slice) #<<----- Plot signal slice\n",
    "plt.vlines(Rpeak-pf,-2.5,3.5,linewidth=0.4) #<<----- Plot location of R-peak\n",
    "print('Beat-Label:',iLabels[random_beat_index]) #<<----- Print Beat-Label"
   ]
  },
  {
   "cell_type": "markdown",
   "metadata": {
    "papermill": {
     "duration": 0.019005,
     "end_time": "2021-10-16T23:35:49.271352",
     "exception": false,
     "start_time": "2021-10-16T23:35:49.252347",
     "status": "completed"
    },
    "tags": []
   },
   "source": [
    "# Plot the signal data (fixed duration along with labels)"
   ]
  },
  {
   "cell_type": "code",
   "execution_count": 6,
   "metadata": {
    "execution": {
     "iopub.execute_input": "2021-10-16T23:35:49.333986Z",
     "iopub.status.busy": "2021-10-16T23:35:49.327870Z",
     "iopub.status.idle": "2021-10-16T23:35:49.468801Z",
     "shell.execute_reply": "2021-10-16T23:35:49.468155Z"
    },
    "papermill": {
     "duration": 0.178327,
     "end_time": "2021-10-16T23:35:49.468936",
     "exception": false,
     "start_time": "2021-10-16T23:35:49.290609",
     "status": "completed"
    },
    "tags": []
   },
   "outputs": [
    {
     "name": "stdout",
     "output_type": "stream",
     "text": [
      "Heart-Rate: 96.0 bpm\n"
     ]
    },
    {
     "data": {
      "image/png": "[encoded data removed]",
      "text/plain": [
       "<Figure size 432x288 with 1 Axes>"
      ]
     },
     "metadata": {
      "needs_background": "light"
     },
     "output_type": "display_data"
    }
   ],
   "source": [
    "plot_from, plot_to = 10, 15 # in sec, plot 5 sec signal\n",
    "\n",
    "# first convert to samples\n",
    "pf, pt = int(plot_from*BASIC_SRATE), int(plot_to*BASIC_SRATE)\n",
    "signal_slice = iSignal[pf:pt]\n",
    "\n",
    "plt.plot(signal_slice)\n",
    "plt.ylim(-2.5,3.5)\n",
    "\n",
    "\n",
    "query_list = np.where((iRpeaks>=pf) & (iRpeaks<pt))[0]\n",
    "\n",
    "rPeaks = iRpeaks[query_list] - pf\n",
    "rLabels = iLabels[query_list]\n",
    "\n",
    "_ = plt.xticks(rPeaks,rLabels)\n",
    "plt.grid(axis='x')\n",
    "\n",
    "# also calculate the Heart-Rate in beats per minute(BPM) for given duration\n",
    "# if there are b beats in a in t sec duration then\n",
    "# beats per second = b/t\n",
    "# beats per minute = 60* (b/t)\n",
    "\n",
    "b,t = len(rPeaks), plot_to-plot_from\n",
    "bpm = 60*b/t\n",
    "print('Heart-Rate:',round(bpm,2),'bpm')"
   ]
  },
  {
   "cell_type": "markdown",
   "metadata": {
    "papermill": {
     "duration": 0.020897,
     "end_time": "2021-10-16T23:35:49.510948",
     "exception": false,
     "start_time": "2021-10-16T23:35:49.490051",
     "status": "completed"
    },
    "tags": []
   },
   "source": [
    "# Counting labels present in a record"
   ]
  },
  {
   "cell_type": "code",
   "execution_count": 7,
   "metadata": {
    "execution": {
     "iopub.execute_input": "2021-10-16T23:35:49.561149Z",
     "iopub.status.busy": "2021-10-16T23:35:49.559996Z",
     "iopub.status.idle": "2021-10-16T23:35:49.569751Z",
     "shell.execute_reply": "2021-10-16T23:35:49.569070Z"
    },
    "papermill": {
     "duration": 0.038362,
     "end_time": "2021-10-16T23:35:49.569888",
     "exception": false,
     "start_time": "2021-10-16T23:35:49.531526",
     "status": "completed"
    },
    "tags": []
   },
   "outputs": [
    {
     "name": "stdout",
     "output_type": "stream",
     "text": [
      "Record: mitdb 208\n",
      "Total\t 2955\n",
      "N \t 1586\n",
      "L \t 0\n",
      "R \t 0\n",
      "B \t 0\n",
      "A \t 0\n",
      "a \t 0\n",
      "J \t 0\n",
      "S \t 2\n",
      "V \t 992\n",
      "r \t 0\n",
      "F \t 373\n",
      "e \t 0\n",
      "j \t 0\n",
      "n \t 0\n",
      "E \t 0\n",
      "/ \t 0\n",
      "f \t 0\n",
      "Q \t 2\n",
      "? \t 0\n",
      "Sum\t 2955\n"
     ]
    }
   ],
   "source": [
    "#-------------------------------------------------------------------------\n",
    "# Find Count of Each Beat-Annotation in the record\n",
    "print('Record:',iDatabase,iRecord)\n",
    "beat_ant_count = {}\n",
    "print('Total\\t',len(iLabels))\n",
    "\n",
    "bsum = 0\n",
    "for b in beat_ants:\n",
    "    beat_ant_count[b]= len(np.where(iLabels==b)[0])\n",
    "    print(b,'\\t',beat_ant_count[b])\n",
    "    bsum+=beat_ant_count[b]\n",
    "print('Sum\\t',bsum)"
   ]
  },
  {
   "cell_type": "markdown",
   "metadata": {
    "papermill": {
     "duration": 0.021329,
     "end_time": "2021-10-16T23:35:49.612913",
     "exception": false,
     "start_time": "2021-10-16T23:35:49.591584",
     "status": "completed"
    },
    "tags": []
   },
   "source": [
    "# Find all beats of a particular lable in a given duration of the record"
   ]
  },
  {
   "cell_type": "code",
   "execution_count": 8,
   "metadata": {
    "execution": {
     "iopub.execute_input": "2021-10-16T23:35:49.678371Z",
     "iopub.status.busy": "2021-10-16T23:35:49.671012Z",
     "iopub.status.idle": "2021-10-16T23:35:49.833728Z",
     "shell.execute_reply": "2021-10-16T23:35:49.833078Z"
    },
    "papermill": {
     "duration": 0.199316,
     "end_time": "2021-10-16T23:35:49.833858",
     "exception": false,
     "start_time": "2021-10-16T23:35:49.634542",
     "status": "completed"
    },
    "tags": []
   },
   "outputs": [
    {
     "name": "stdout",
     "output_type": "stream",
     "text": [
      "Total F type beats in given duration = 18\n",
      "\n",
      "Randomly select one beat...\n",
      "R-Peak Location: 12306\n",
      "Beat-Label: F\n"
     ]
    },
    {
     "data": {
      "image/png": "[encoded data removed]",
      "text/plain": [
       "<Figure size 432x288 with 1 Axes>"
      ]
     },
     "metadata": {
      "needs_background": "light"
     },
     "output_type": "display_data"
    }
   ],
   "source": [
    "# Select the duration\n",
    "time_from, time_to = 10, 100 # in sec\n",
    "\n",
    "# Select type of label to find\n",
    "lable_to_find='F'\n",
    "\n",
    "# convert to samples\n",
    "pf,pt = int(time_from*BASIC_SRATE), int(time_to*BASIC_SRATE)\n",
    "\n",
    "# design query\n",
    "a_query = (\n",
    "          (iRpeaks >= pf) &\n",
    "          (iRpeaks < pt) &\n",
    "          (iLabels==lable_to_find)\n",
    "          )\n",
    "\n",
    "# retrive indices\n",
    "a_list = np.where(a_query)[0]\n",
    "\n",
    "print('Total',lable_to_find,'type beats in given duration =',len(a_list))\n",
    "\n",
    "\n",
    "# plot a random beat from retrived list\n",
    "print('\\nRandomly select one beat...')\n",
    "if len(a_list>0):\n",
    "    sel_index = np.random.choice(a_list)\n",
    "    \n",
    "    \n",
    "    # find location of R-peak of that beat ( a single point )\n",
    "    Rpeak = iRpeaks[sel_index]\n",
    "    print('R-Peak Location:',Rpeak)\n",
    "\n",
    "    # select fixed duration of signal to be plotted on either side of the R-peak\n",
    "    left_duration = 1 # sec\n",
    "    right_duration = 1.5 # sec\n",
    "\n",
    "    # convert to duration in sec to samples\n",
    "    left_samples = int(left_duration*BASIC_SRATE)\n",
    "    right_samples = int(right_duration*BASIC_SRATE)\n",
    "\n",
    "    # calculate time interval\n",
    "    pf, pt = Rpeak-left_samples, Rpeak+right_samples # in samples\n",
    "    signal_slice = iSignal[pf:pt]\n",
    "\n",
    "    plt.figure('beat')\n",
    "    plt.ylim(-2.5,3.5)\n",
    "    plt.plot(signal_slice) #<<----- Plot signal slice\n",
    "    plt.vlines(Rpeak-pf,-2.5,3.5,linewidth=0.4) #<<----- Plot location of R-peak\n",
    "    print('Beat-Label:',iLabels[sel_index]) #<<----- Print Beat-Label"
   ]
  },
  {
   "cell_type": "markdown",
   "metadata": {
    "papermill": {
     "duration": 0.024524,
     "end_time": "2021-10-16T23:35:49.883082",
     "exception": false,
     "start_time": "2021-10-16T23:35:49.858558",
     "status": "completed"
    },
    "tags": []
   },
   "source": [
    "# Creating a custom set of beat labels"
   ]
  },
  {
   "cell_type": "code",
   "execution_count": 9,
   "metadata": {
    "execution": {
     "iopub.execute_input": "2021-10-16T23:35:49.949076Z",
     "iopub.status.busy": "2021-10-16T23:35:49.944407Z",
     "iopub.status.idle": "2021-10-16T23:35:49.958808Z",
     "shell.execute_reply": "2021-10-16T23:35:49.958014Z"
    },
    "papermill": {
     "duration": 0.051729,
     "end_time": "2021-10-16T23:35:49.958952",
     "exception": false,
     "start_time": "2021-10-16T23:35:49.907223",
     "status": "completed"
    },
    "tags": []
   },
   "outputs": [
    {
     "name": "stdout",
     "output_type": "stream",
     "text": [
      "Record: mitdb 208\n",
      "Total\t 2955\n",
      "_N \t 1586\n",
      "_S \t 2\n",
      "_V \t 992\n",
      "_F \t 373\n",
      "_Q \t 2\n",
      "Sum\t 2955\n"
     ]
    }
   ],
   "source": [
    "# mapping standard labels to AAMI or custom labels : NOTE - only beat-annotations are mapped\n",
    "\n",
    "# define a mapping dictionary\n",
    "aami_ants = [ '_N','_S','_V','_F','_Q']\n",
    "aami_mapping = {\n",
    "    \n",
    "    'N': '_N',\n",
    "    'L': '_N',\n",
    "    'R': '_N',\n",
    "    'B': '_N',\n",
    "    'A': '_S',\n",
    "    'a': '_S',\n",
    "    'J': '_S',\n",
    "    'S': '_S',\n",
    "    'V': '_V',\n",
    "    'r': '_V',\n",
    "    'F': '_F',\n",
    "    'e': '_N',\n",
    "    'j': '_N',\n",
    "    'n': '_N',\n",
    "    'E': '_N',\n",
    "    'f': '_Q',\n",
    "    '/': '_Q',\n",
    "    'Q': '_Q',\n",
    "    '?': '_Q',\n",
    "                } # <<-- aami labels have been prefixed by _ to avoid confusion\n",
    "\n",
    "\n",
    "# map all iLabels to aamiLabels\n",
    "aamiLabels = np.zeros(len(iLabels), dtype='U2')  #<<--- U2 since we use 2 chars for aami labels\n",
    "\n",
    "for i in range(0,len(iLabels)):\n",
    "    aamiLabels[i]=aami_mapping[iLabels[i]]\n",
    "\n",
    "#----- mapping done------------ \n",
    "# this new array can be used similar to iLabels\n",
    "\n",
    "#-------------------------------------------------------------------------\n",
    "# Find Count of Each AAMI Label in the record\n",
    "print('Record:',iDatabase,iRecord)\n",
    "aami_ant_count = {}\n",
    "print('Total\\t',len(aamiLabels))\n",
    "\n",
    "bsum = 0\n",
    "for b in aami_ants:\n",
    "    aami_ant_count[b]= len(np.where(aamiLabels==b)[0])\n",
    "    print(b,'\\t',aami_ant_count[b])\n",
    "    bsum+=aami_ant_count[b]\n",
    "print('Sum\\t',bsum)"
   ]
  },
  {
   "cell_type": "markdown",
   "metadata": {
    "papermill": {
     "duration": 0.02507,
     "end_time": "2021-10-16T23:35:50.008771",
     "exception": false,
     "start_time": "2021-10-16T23:35:49.983701",
     "status": "completed"
    },
    "tags": []
   },
   "source": [
    "# Find all beats of a particular aami or Custom lable in a given duration of the record"
   ]
  },
  {
   "cell_type": "code",
   "execution_count": 10,
   "metadata": {
    "execution": {
     "iopub.execute_input": "2021-10-16T23:35:50.075208Z",
     "iopub.status.busy": "2021-10-16T23:35:50.069103Z",
     "iopub.status.idle": "2021-10-16T23:35:50.245915Z",
     "shell.execute_reply": "2021-10-16T23:35:50.244180Z"
    },
    "papermill": {
     "duration": 0.212078,
     "end_time": "2021-10-16T23:35:50.246094",
     "exception": false,
     "start_time": "2021-10-16T23:35:50.034016",
     "status": "completed"
    },
    "tags": []
   },
   "outputs": [
    {
     "name": "stdout",
     "output_type": "stream",
     "text": [
      "Total _N type beats in given duration = 96\n",
      "\n",
      "Randomly select one beat...\n",
      "R-Peak Location: 3034\n",
      "Beat-Label: N\n",
      "AAMI-Label: _N\n"
     ]
    },
    {
     "data": {
      "image/png": "[encoded data removed]",
      "text/plain": [
       "<Figure size 432x288 with 1 Axes>"
      ]
     },
     "metadata": {
      "needs_background": "light"
     },
     "output_type": "display_data"
    }
   ],
   "source": [
    "# Select a duration\n",
    "time_from, time_to = 10, 100 # in sec\n",
    "lable_to_find='_N'\n",
    "\n",
    "# convert to samples\n",
    "pf,pt = int(time_from*BASIC_SRATE), int(time_to*BASIC_SRATE)\n",
    "\n",
    "# design query\n",
    "a_query = (\n",
    "          (iRpeaks >= pf) &\n",
    "          (iRpeaks < pt) &\n",
    "          (aamiLabels==lable_to_find)\n",
    "          )\n",
    "\n",
    "# retrive indices\n",
    "a_list = np.where(a_query)[0]\n",
    "\n",
    "print('Total',lable_to_find,'type beats in given duration =',len(a_list))\n",
    "\n",
    "\n",
    "# plot a random beat from retrived list\n",
    "print('\\nRandomly select one beat...')\n",
    "if len(a_list>0):\n",
    "    sel_index = np.random.choice(a_list)\n",
    "    \n",
    "    \n",
    "    # find location of R-peak of that beat ( a single point )\n",
    "    Rpeak = iRpeaks[sel_index]\n",
    "    print('R-Peak Location:',Rpeak)\n",
    "\n",
    "    # select fixed duration of signal to be plotted on either side of the R-peak\n",
    "    left_duration = 1 # sec\n",
    "    right_duration = 1.5 # sec\n",
    "\n",
    "    # convert to duration in sec to samples\n",
    "    left_samples = int(left_duration*BASIC_SRATE)\n",
    "    right_samples = int(right_duration*BASIC_SRATE)\n",
    "\n",
    "    # calculate time interval\n",
    "    pf, pt = Rpeak-left_samples, Rpeak+right_samples # in samples\n",
    "    signal_slice = iSignal[pf:pt]\n",
    "\n",
    "    plt.figure('beat')\n",
    "    plt.ylim(-2.5,3.5)\n",
    "    plt.plot(signal_slice) #<<----- Plot signal slice\n",
    "    plt.vlines(Rpeak-pf,-2.5,3.5,linewidth=0.4)  #<<----- Plot location of R-peak\n",
    "    print('Beat-Label:',iLabels[sel_index]) #<<----- Print Beat-Label\n",
    "    print('AAMI-Label:',aamiLabels[sel_index]) #<<----- Print Beat-Label"
   ]
  },
  {
   "cell_type": "markdown",
   "metadata": {
    "papermill": {
     "duration": 0.025849,
     "end_time": "2021-10-16T23:35:50.298046",
     "exception": false,
     "start_time": "2021-10-16T23:35:50.272197",
     "status": "completed"
    },
    "tags": []
   },
   "source": [
    "# Displaying both standard and custom labels in a given duration"
   ]
  },
  {
   "cell_type": "code",
   "execution_count": 11,
   "metadata": {
    "execution": {
     "iopub.execute_input": "2021-10-16T23:35:50.376140Z",
     "iopub.status.busy": "2021-10-16T23:35:50.374165Z",
     "iopub.status.idle": "2021-10-16T23:35:50.646642Z",
     "shell.execute_reply": "2021-10-16T23:35:50.647204Z"
    },
    "papermill": {
     "duration": 0.323879,
     "end_time": "2021-10-16T23:35:50.647369",
     "exception": false,
     "start_time": "2021-10-16T23:35:50.323490",
     "status": "completed"
    },
    "tags": []
   },
   "outputs": [
    {
     "data": {
      "image/png": "[encoded data removed]",
      "text/plain": [
       "<Figure size 1440x432 with 1 Axes>"
      ]
     },
     "metadata": {
      "needs_background": "light"
     },
     "output_type": "display_data"
    }
   ],
   "source": [
    "# Select time duration\n",
    "plot_from, plot_to = 1000, 1020 # in sec, plot 20 sec signal\n",
    "\n",
    "# first convert to samples\n",
    "pf, pt = int(plot_from*BASIC_SRATE), int(plot_to*BASIC_SRATE)\n",
    "signal_slice = iSignal[pf:pt]\n",
    "plt.figure('fancy',figsize=(20,6))\n",
    "plt.plot(signal_slice,linewidth=0.6,color='black')\n",
    "plt.ylim(-2.5,3.5)\n",
    "\n",
    "# display standard labels as ticks\n",
    "query_list = np.where((iRpeaks>=pf) & (iRpeaks<pt))[0]\n",
    "\n",
    "rPeaks = iRpeaks[query_list] - pf\n",
    "rLabels = iLabels[query_list]\n",
    "\n",
    "_ = plt.xticks(rPeaks,rLabels)\n",
    "plt.grid(axis='x')\n",
    "\n",
    "# display aami labels as scatter\n",
    "rLabels = aamiLabels[query_list]\n",
    "\n",
    "# need a color map for aami labels\n",
    "aami_color_dict = {'_N':'tab:green','_S':'tab:red','_V':'tab:blue','_F':'tab:purple','_Q':'tab:gray'}\n",
    "rLcol = np.zeros(len(rLabels), dtype='U10')\n",
    "for i in range(0,len(rLabels)):\n",
    "    rLcol[i]=aami_color_dict[rLabels[i]]\n",
    "_ = plt.scatter(rPeaks,np.zeros(len(rPeaks))-2,color=rLcol,marker='s')\n"
   ]
  },
  {
   "cell_type": "markdown",
   "metadata": {
    "papermill": {
     "duration": 0.02582,
     "end_time": "2021-10-16T23:35:50.699310",
     "exception": false,
     "start_time": "2021-10-16T23:35:50.673490",
     "status": "completed"
    },
    "tags": []
   },
   "source": [
    "# plot RR-Intervals in a given duration\n",
    "RR-Interval might be import to determine the regularity of the rhythm. It can also be used to calculate heart rate."
   ]
  },
  {
   "cell_type": "code",
   "execution_count": 12,
   "metadata": {
    "execution": {
     "iopub.execute_input": "2021-10-16T23:35:50.928332Z",
     "iopub.status.busy": "2021-10-16T23:35:50.764597Z",
     "iopub.status.idle": "2021-10-16T23:35:51.095666Z",
     "shell.execute_reply": "2021-10-16T23:35:51.094875Z"
    },
    "papermill": {
     "duration": 0.369541,
     "end_time": "2021-10-16T23:35:51.095799",
     "exception": false,
     "start_time": "2021-10-16T23:35:50.726258",
     "status": "completed"
    },
    "tags": []
   },
   "outputs": [
    {
     "name": "stdout",
     "output_type": "stream",
     "text": [
      "Heart-Rate: 96.7 bpm\n"
     ]
    },
    {
     "data": {
      "image/png": "[encoded data removed]",
      "text/plain": [
       "<Figure size 432x288 with 1 Axes>"
      ]
     },
     "metadata": {
      "needs_background": "light"
     },
     "output_type": "display_data"
    }
   ],
   "source": [
    "# Select time duration\n",
    "plot_from, plot_to = 1000, 1020 # in sec, plot 20 sec signal\n",
    "\n",
    "# first convert to samples\n",
    "pf, pt = int(plot_from*BASIC_SRATE), int(plot_to*BASIC_SRATE)\n",
    "\n",
    "query_list = np.where((iRpeaks>=pf) & (iRpeaks<pt))[0]\n",
    "if len(query_list)>1 : #proceed only if at least 2 R peaks are present\n",
    "    \n",
    "    # calculate RR Intervals\n",
    "    rpeaks_range = iRpeaks[query_list]\n",
    "    rri_intervals = rpeaks_range[1:] - rpeaks_range[0:-1]\n",
    "    \n",
    "    # convert to seconds\n",
    "    rri_intervals=rri_intervals/BASIC_SRATE\n",
    "    \n",
    "    # plot\n",
    "    plt.plot(rri_intervals)\n",
    "    \n",
    "    # RR-Interval can also be considered as the duration of 1 beat\n",
    "    # to calculate Hear-Rate, find average RR Interval\n",
    "    avg_RRI = np.average(rri_intervals)\n",
    "    \n",
    "    # heart-rate\n",
    "    bpm = 60/avg_RRI\n",
    "    print('Heart-Rate:',round(bpm,2),'bpm')\n",
    "    \n",
    "else:\n",
    "    print('Not enough R-Peaks in the interval')\n",
    "        \n",
    "        \n",
    "\n"
   ]
  }
 ],
 "metadata": {
  "kernelspec": {
   "display_name": "Python 3",
   "language": "python",
   "name": "python3"
  },
  "language_info": {
   "codemirror_mode": {
    "name": "ipython",
    "version": 3
   },
   "file_extension": ".py",
   "mimetype": "text/x-python",
   "name": "python",
   "nbconvert_exporter": "python",
   "pygments_lexer": "ipython3",
   "version": "3.8.10"
  },
  "papermill": {
   "duration": 16.359334,
   "end_time": "2021-10-16T23:35:51.234106",
   "environment_variables": {},
   "exception": null,
   "input_path": "__notebook__.ipynb",
   "output_path": "__notebook__.ipynb",
   "parameters": {},
   "start_time": "2021-10-16T23:35:34.874772",
   "version": "2.1.0"
  }
 },
 "nbformat": 4,
 "nbformat_minor": 4
}
